{
 "cells": [
  {
   "cell_type": "markdown",
   "id": "601b2309",
   "metadata": {},
   "source": [
    "# TC 5033\n",
    "## Deep Learning\n",
    "## Fully Connected Deep Neural Networks using PyTorch\n",
    "<br>\n",
    "\n",
    "#### Activity 2a: Implementing a FC for ASL Dataset using PyTorch\n",
    "<br>\n",
    "\n",
    "\n",
    "- Objective\n",
    "\n",
    "    The primary aim of this activity is to transition from using Numpy for network implementation to utilizing PyTorch, a powerful deep learning framework. You will be replicating the work you did for the ASL dataset in Activity 1b, but this time, you'll implement a your multi layer FC model using PyTorch.\n",
    "    \n",
    "- Instructions\n",
    "\n",
    "    Review Previous Work: Begin by reviewing your Numpy-based Fully Connected Network for the ASL dataset from Activity 1b. Note the architecture, hyperparameters, and performance metrics for comparison.\n",
    "\n",
    "    Introduce PyTorch: If you're new to PyTorch, take some time to familiarize yourself with its basic operations and syntax. You can consult the official documentation or follow online tutorials.\n",
    "\n",
    "    Prepare the ASL Dataset: As before, download and preprocess the Kaggle ASL dataset. \n",
    "\n",
    "    Implement the Network: Design your network architecture tailored for the ASL dataset. Pay special attention to PyTorch modules like nn.Linear() and nn.ReLU().\n",
    "\n",
    "    Train the Model: Implement the training loop, making use of PyTorch's autograd to handle backpropagation. Monitor metrics like loss and accuracy as the model trains.\n",
    "\n",
    "    Analyze and Document: In Markdown cells, discuss the architecture choices, any differences in performance between the Numpy and PyTorch implementations, and insights gained from using a deep learning framework like PyTorch."
   ]
  },
  {
   "cell_type": "code",
   "execution_count": 1,
   "id": "8aa1b0b0",
   "metadata": {},
   "outputs": [
    {
     "name": "stdout",
     "output_type": "stream",
     "text": [
      "Requirement already satisfied: opencv-python==4.8.0.74 in c:\\anaconda\\lib\\site-packages (4.8.0.74)\n",
      "Requirement already satisfied: numpy>=1.17.3 in c:\\anaconda\\lib\\site-packages (from opencv-python==4.8.0.74) (1.21.5)\n",
      "Note: you may need to restart the kernel to use updated packages.\n"
     ]
    }
   ],
   "source": [
    "pip install opencv-python==4.8.0.74"
   ]
  },
  {
   "cell_type": "code",
   "execution_count": 3,
   "id": "deb13870",
   "metadata": {},
   "outputs": [
    {
     "name": "stdout",
     "output_type": "stream",
     "text": [
      "Collecting jupyterthemes\n",
      "  Downloading jupyterthemes-0.20.0-py2.py3-none-any.whl (7.0 MB)\n",
      "Requirement already satisfied: jupyter-core in c:\\anaconda\\lib\\site-packages (from jupyterthemes) (4.9.2)\n",
      "Requirement already satisfied: notebook>=5.6.0 in c:\\anaconda\\lib\\site-packages (from jupyterthemes) (6.4.8)\n",
      "Requirement already satisfied: ipython>=5.4.1 in c:\\anaconda\\lib\\site-packages (from jupyterthemes) (8.2.0)\n",
      "Collecting lesscpy>=0.11.2\n",
      "  Downloading lesscpy-0.15.1-py2.py3-none-any.whl (46 kB)\n",
      "Requirement already satisfied: matplotlib>=1.4.3 in c:\\anaconda\\lib\\site-packages (from jupyterthemes) (3.5.1)\n",
      "Requirement already satisfied: jedi>=0.16 in c:\\anaconda\\lib\\site-packages (from ipython>=5.4.1->jupyterthemes) (0.18.1)\n",
      "Requirement already satisfied: colorama in c:\\anaconda\\lib\\site-packages (from ipython>=5.4.1->jupyterthemes) (0.4.4)\n",
      "Requirement already satisfied: prompt-toolkit!=3.0.0,!=3.0.1,<3.1.0,>=2.0.0 in c:\\anaconda\\lib\\site-packages (from ipython>=5.4.1->jupyterthemes) (3.0.20)\n",
      "Requirement already satisfied: pygments>=2.4.0 in c:\\anaconda\\lib\\site-packages (from ipython>=5.4.1->jupyterthemes) (2.11.2)\n",
      "Requirement already satisfied: stack-data in c:\\anaconda\\lib\\site-packages (from ipython>=5.4.1->jupyterthemes) (0.2.0)\n",
      "Requirement already satisfied: backcall in c:\\anaconda\\lib\\site-packages (from ipython>=5.4.1->jupyterthemes) (0.2.0)\n",
      "Requirement already satisfied: decorator in c:\\anaconda\\lib\\site-packages (from ipython>=5.4.1->jupyterthemes) (5.1.1)\n",
      "Requirement already satisfied: traitlets>=5 in c:\\anaconda\\lib\\site-packages (from ipython>=5.4.1->jupyterthemes) (5.1.1)\n",
      "Requirement already satisfied: matplotlib-inline in c:\\anaconda\\lib\\site-packages (from ipython>=5.4.1->jupyterthemes) (0.1.2)\n",
      "Requirement already satisfied: pickleshare in c:\\anaconda\\lib\\site-packages (from ipython>=5.4.1->jupyterthemes) (0.7.5)\n",
      "Requirement already satisfied: setuptools>=18.5 in c:\\anaconda\\lib\\site-packages (from ipython>=5.4.1->jupyterthemes) (61.2.0)\n",
      "Requirement already satisfied: parso<0.9.0,>=0.8.0 in c:\\anaconda\\lib\\site-packages (from jedi>=0.16->ipython>=5.4.1->jupyterthemes) (0.8.3)\n",
      "Collecting ply\n",
      "  Downloading ply-3.11-py2.py3-none-any.whl (49 kB)\n",
      "Requirement already satisfied: numpy>=1.17 in c:\\anaconda\\lib\\site-packages (from matplotlib>=1.4.3->jupyterthemes) (1.21.5)\n",
      "Requirement already satisfied: packaging>=20.0 in c:\\anaconda\\lib\\site-packages (from matplotlib>=1.4.3->jupyterthemes) (21.3)\n",
      "Requirement already satisfied: python-dateutil>=2.7 in c:\\anaconda\\lib\\site-packages (from matplotlib>=1.4.3->jupyterthemes) (2.8.2)\n",
      "Requirement already satisfied: pyparsing>=2.2.1 in c:\\anaconda\\lib\\site-packages (from matplotlib>=1.4.3->jupyterthemes) (3.0.4)\n",
      "Requirement already satisfied: pillow>=6.2.0 in c:\\anaconda\\lib\\site-packages (from matplotlib>=1.4.3->jupyterthemes) (9.0.1)\n",
      "Requirement already satisfied: kiwisolver>=1.0.1 in c:\\anaconda\\lib\\site-packages (from matplotlib>=1.4.3->jupyterthemes) (1.3.2)\n",
      "Requirement already satisfied: cycler>=0.10 in c:\\anaconda\\lib\\site-packages (from matplotlib>=1.4.3->jupyterthemes) (0.11.0)\n",
      "Requirement already satisfied: fonttools>=4.22.0 in c:\\anaconda\\lib\\site-packages (from matplotlib>=1.4.3->jupyterthemes) (4.25.0)\n",
      "Requirement already satisfied: Send2Trash>=1.8.0 in c:\\anaconda\\lib\\site-packages (from notebook>=5.6.0->jupyterthemes) (1.8.0)\n",
      "Requirement already satisfied: argon2-cffi in c:\\anaconda\\lib\\site-packages (from notebook>=5.6.0->jupyterthemes) (21.3.0)\n",
      "Requirement already satisfied: jupyter-client>=5.3.4 in c:\\anaconda\\lib\\site-packages (from notebook>=5.6.0->jupyterthemes) (6.1.12)\n",
      "Requirement already satisfied: terminado>=0.8.3 in c:\\anaconda\\lib\\site-packages (from notebook>=5.6.0->jupyterthemes) (0.13.1)\n",
      "Requirement already satisfied: jinja2 in c:\\anaconda\\lib\\site-packages (from notebook>=5.6.0->jupyterthemes) (2.11.3)\n",
      "Requirement already satisfied: prometheus-client in c:\\anaconda\\lib\\site-packages (from notebook>=5.6.0->jupyterthemes) (0.13.1)\n",
      "Requirement already satisfied: tornado>=6.1 in c:\\anaconda\\lib\\site-packages (from notebook>=5.6.0->jupyterthemes) (6.1)\n",
      "Requirement already satisfied: nbformat in c:\\anaconda\\lib\\site-packages (from notebook>=5.6.0->jupyterthemes) (5.3.0)\n",
      "Requirement already satisfied: nbconvert in c:\\anaconda\\lib\\site-packages (from notebook>=5.6.0->jupyterthemes) (6.4.4)\n",
      "Requirement already satisfied: nest-asyncio>=1.5 in c:\\anaconda\\lib\\site-packages (from notebook>=5.6.0->jupyterthemes) (1.5.5)\n",
      "Requirement already satisfied: ipython-genutils in c:\\anaconda\\lib\\site-packages (from notebook>=5.6.0->jupyterthemes) (0.2.0)\n",
      "Requirement already satisfied: pyzmq>=17 in c:\\anaconda\\lib\\site-packages (from notebook>=5.6.0->jupyterthemes) (22.3.0)\n",
      "Requirement already satisfied: ipykernel in c:\\anaconda\\lib\\site-packages (from notebook>=5.6.0->jupyterthemes) (6.9.1)\n",
      "Requirement already satisfied: pywin32>=1.0 in c:\\anaconda\\lib\\site-packages (from jupyter-core->jupyterthemes) (302)\n",
      "Requirement already satisfied: wcwidth in c:\\anaconda\\lib\\site-packages (from prompt-toolkit!=3.0.0,!=3.0.1,<3.1.0,>=2.0.0->ipython>=5.4.1->jupyterthemes) (0.2.5)\n",
      "Requirement already satisfied: six>=1.5 in c:\\anaconda\\lib\\site-packages (from python-dateutil>=2.7->matplotlib>=1.4.3->jupyterthemes) (1.16.0)\n",
      "Requirement already satisfied: pywinpty>=1.1.0 in c:\\anaconda\\lib\\site-packages (from terminado>=0.8.3->notebook>=5.6.0->jupyterthemes) (2.0.2)\n",
      "Requirement already satisfied: argon2-cffi-bindings in c:\\anaconda\\lib\\site-packages (from argon2-cffi->notebook>=5.6.0->jupyterthemes) (21.2.0)\n",
      "Requirement already satisfied: cffi>=1.0.1 in c:\\anaconda\\lib\\site-packages (from argon2-cffi-bindings->argon2-cffi->notebook>=5.6.0->jupyterthemes) (1.15.0)\n",
      "Requirement already satisfied: pycparser in c:\\anaconda\\lib\\site-packages (from cffi>=1.0.1->argon2-cffi-bindings->argon2-cffi->notebook>=5.6.0->jupyterthemes) (2.21)\n",
      "Requirement already satisfied: debugpy<2.0,>=1.0.0 in c:\\anaconda\\lib\\site-packages (from ipykernel->notebook>=5.6.0->jupyterthemes) (1.5.1)\n",
      "Requirement already satisfied: MarkupSafe>=0.23 in c:\\anaconda\\lib\\site-packages (from jinja2->notebook>=5.6.0->jupyterthemes) (2.0.1)\n",
      "Requirement already satisfied: pandocfilters>=1.4.1 in c:\\anaconda\\lib\\site-packages (from nbconvert->notebook>=5.6.0->jupyterthemes) (1.5.0)\n",
      "Requirement already satisfied: bleach in c:\\anaconda\\lib\\site-packages (from nbconvert->notebook>=5.6.0->jupyterthemes) (4.1.0)\n",
      "Requirement already satisfied: testpath in c:\\anaconda\\lib\\site-packages (from nbconvert->notebook>=5.6.0->jupyterthemes) (0.5.0)\n",
      "Requirement already satisfied: beautifulsoup4 in c:\\anaconda\\lib\\site-packages (from nbconvert->notebook>=5.6.0->jupyterthemes) (4.11.1)\n",
      "Requirement already satisfied: jupyterlab-pygments in c:\\anaconda\\lib\\site-packages (from nbconvert->notebook>=5.6.0->jupyterthemes) (0.1.2)\n",
      "Requirement already satisfied: nbclient<0.6.0,>=0.5.0 in c:\\anaconda\\lib\\site-packages (from nbconvert->notebook>=5.6.0->jupyterthemes) (0.5.13)\n",
      "Requirement already satisfied: mistune<2,>=0.8.1 in c:\\anaconda\\lib\\site-packages (from nbconvert->notebook>=5.6.0->jupyterthemes) (0.8.4)\n",
      "Requirement already satisfied: defusedxml in c:\\anaconda\\lib\\site-packages (from nbconvert->notebook>=5.6.0->jupyterthemes) (0.7.1)\n",
      "Requirement already satisfied: entrypoints>=0.2.2 in c:\\anaconda\\lib\\site-packages (from nbconvert->notebook>=5.6.0->jupyterthemes) (0.4)\n",
      "Requirement already satisfied: jsonschema>=2.6 in c:\\anaconda\\lib\\site-packages (from nbformat->notebook>=5.6.0->jupyterthemes) (4.4.0)\n",
      "Requirement already satisfied: fastjsonschema in c:\\anaconda\\lib\\site-packages (from nbformat->notebook>=5.6.0->jupyterthemes) (2.15.1)\n",
      "Requirement already satisfied: pyrsistent!=0.17.0,!=0.17.1,!=0.17.2,>=0.14.0 in c:\\anaconda\\lib\\site-packages (from jsonschema>=2.6->nbformat->notebook>=5.6.0->jupyterthemes) (0.18.0)\n",
      "Requirement already satisfied: attrs>=17.4.0 in c:\\anaconda\\lib\\site-packages (from jsonschema>=2.6->nbformat->notebook>=5.6.0->jupyterthemes) (21.4.0)\n",
      "Requirement already satisfied: soupsieve>1.2 in c:\\anaconda\\lib\\site-packages (from beautifulsoup4->nbconvert->notebook>=5.6.0->jupyterthemes) (2.3.1)\n",
      "Requirement already satisfied: webencodings in c:\\anaconda\\lib\\site-packages (from bleach->nbconvert->notebook>=5.6.0->jupyterthemes) (0.5.1)\n",
      "Requirement already satisfied: asttokens in c:\\anaconda\\lib\\site-packages (from stack-data->ipython>=5.4.1->jupyterthemes) (2.0.5)\n",
      "Requirement already satisfied: pure-eval in c:\\anaconda\\lib\\site-packages (from stack-data->ipython>=5.4.1->jupyterthemes) (0.2.2)\n",
      "Requirement already satisfied: executing in c:\\anaconda\\lib\\site-packages (from stack-data->ipython>=5.4.1->jupyterthemes) (0.8.3)\n",
      "Installing collected packages: ply, lesscpy, jupyterthemes\n",
      "Successfully installed jupyterthemes-0.20.0 lesscpy-0.15.1 ply-3.11\n",
      "Note: you may need to restart the kernel to use updated packages.\n"
     ]
    }
   ],
   "source": [
    "pip install jupyterthemes"
   ]
  },
  {
   "cell_type": "code",
   "execution_count": 4,
   "id": "183db241",
   "metadata": {},
   "outputs": [],
   "source": [
    "import numpy as np\n",
    "import string\n",
    "import pandas as pd\n",
    "import matplotlib.pyplot as plt\n",
    "import os\n",
    "%matplotlib inline\n",
    "\n",
    "#PyTorch stuff\n",
    "import torch\n",
    "import torch.nn as nn\n",
    "import torch.nn.functional as F\n",
    "\n",
    "# Solamente para usuarios de Jupyter Themes\n",
    "from jupyterthemes import jtplot\n",
    "jtplot.style(grid=False)"
   ]
  },
  {
   "cell_type": "code",
   "execution_count": 5,
   "id": "b3896ddf",
   "metadata": {},
   "outputs": [],
   "source": [
    "# DATA_PATH = '/media/pepe/DataUbuntu/Databases/asl_data/'\n",
    "#DATA_PATH = '/home/pepe/Documents/github_repos/datasets/asl_data'\n",
    "DATA_PATH= './asl_data'\n",
    "train_df = pd.read_csv(os.path.join(DATA_PATH, 'sign_mnist_train.csv'))\n",
    "valid_df = pd.read_csv(os.path.join(DATA_PATH, 'sign_mnist_valid.csv'))"
   ]
  },
  {
   "cell_type": "markdown",
   "id": "08fa938e",
   "metadata": {},
   "source": [
    "### Always a good idea to explore the data"
   ]
  },
  {
   "cell_type": "code",
   "execution_count": 6,
   "id": "c149b4d7",
   "metadata": {},
   "outputs": [
    {
     "data": {
      "text/html": [
       "<div>\n",
       "<style scoped>\n",
       "    .dataframe tbody tr th:only-of-type {\n",
       "        vertical-align: middle;\n",
       "    }\n",
       "\n",
       "    .dataframe tbody tr th {\n",
       "        vertical-align: top;\n",
       "    }\n",
       "\n",
       "    .dataframe thead th {\n",
       "        text-align: right;\n",
       "    }\n",
       "</style>\n",
       "<table border=\"1\" class=\"dataframe\">\n",
       "  <thead>\n",
       "    <tr style=\"text-align: right;\">\n",
       "      <th></th>\n",
       "      <th>label</th>\n",
       "      <th>pixel1</th>\n",
       "      <th>pixel2</th>\n",
       "      <th>pixel3</th>\n",
       "      <th>pixel4</th>\n",
       "      <th>pixel5</th>\n",
       "      <th>pixel6</th>\n",
       "      <th>pixel7</th>\n",
       "      <th>pixel8</th>\n",
       "      <th>pixel9</th>\n",
       "      <th>...</th>\n",
       "      <th>pixel775</th>\n",
       "      <th>pixel776</th>\n",
       "      <th>pixel777</th>\n",
       "      <th>pixel778</th>\n",
       "      <th>pixel779</th>\n",
       "      <th>pixel780</th>\n",
       "      <th>pixel781</th>\n",
       "      <th>pixel782</th>\n",
       "      <th>pixel783</th>\n",
       "      <th>pixel784</th>\n",
       "    </tr>\n",
       "  </thead>\n",
       "  <tbody>\n",
       "    <tr>\n",
       "      <th>0</th>\n",
       "      <td>3</td>\n",
       "      <td>107</td>\n",
       "      <td>118</td>\n",
       "      <td>127</td>\n",
       "      <td>134</td>\n",
       "      <td>139</td>\n",
       "      <td>143</td>\n",
       "      <td>146</td>\n",
       "      <td>150</td>\n",
       "      <td>153</td>\n",
       "      <td>...</td>\n",
       "      <td>207</td>\n",
       "      <td>207</td>\n",
       "      <td>207</td>\n",
       "      <td>207</td>\n",
       "      <td>206</td>\n",
       "      <td>206</td>\n",
       "      <td>206</td>\n",
       "      <td>204</td>\n",
       "      <td>203</td>\n",
       "      <td>202</td>\n",
       "    </tr>\n",
       "    <tr>\n",
       "      <th>1</th>\n",
       "      <td>6</td>\n",
       "      <td>155</td>\n",
       "      <td>157</td>\n",
       "      <td>156</td>\n",
       "      <td>156</td>\n",
       "      <td>156</td>\n",
       "      <td>157</td>\n",
       "      <td>156</td>\n",
       "      <td>158</td>\n",
       "      <td>158</td>\n",
       "      <td>...</td>\n",
       "      <td>69</td>\n",
       "      <td>149</td>\n",
       "      <td>128</td>\n",
       "      <td>87</td>\n",
       "      <td>94</td>\n",
       "      <td>163</td>\n",
       "      <td>175</td>\n",
       "      <td>103</td>\n",
       "      <td>135</td>\n",
       "      <td>149</td>\n",
       "    </tr>\n",
       "    <tr>\n",
       "      <th>2</th>\n",
       "      <td>2</td>\n",
       "      <td>187</td>\n",
       "      <td>188</td>\n",
       "      <td>188</td>\n",
       "      <td>187</td>\n",
       "      <td>187</td>\n",
       "      <td>186</td>\n",
       "      <td>187</td>\n",
       "      <td>188</td>\n",
       "      <td>187</td>\n",
       "      <td>...</td>\n",
       "      <td>202</td>\n",
       "      <td>201</td>\n",
       "      <td>200</td>\n",
       "      <td>199</td>\n",
       "      <td>198</td>\n",
       "      <td>199</td>\n",
       "      <td>198</td>\n",
       "      <td>195</td>\n",
       "      <td>194</td>\n",
       "      <td>195</td>\n",
       "    </tr>\n",
       "    <tr>\n",
       "      <th>3</th>\n",
       "      <td>2</td>\n",
       "      <td>211</td>\n",
       "      <td>211</td>\n",
       "      <td>212</td>\n",
       "      <td>212</td>\n",
       "      <td>211</td>\n",
       "      <td>210</td>\n",
       "      <td>211</td>\n",
       "      <td>210</td>\n",
       "      <td>210</td>\n",
       "      <td>...</td>\n",
       "      <td>235</td>\n",
       "      <td>234</td>\n",
       "      <td>233</td>\n",
       "      <td>231</td>\n",
       "      <td>230</td>\n",
       "      <td>226</td>\n",
       "      <td>225</td>\n",
       "      <td>222</td>\n",
       "      <td>229</td>\n",
       "      <td>163</td>\n",
       "    </tr>\n",
       "    <tr>\n",
       "      <th>4</th>\n",
       "      <td>12</td>\n",
       "      <td>164</td>\n",
       "      <td>167</td>\n",
       "      <td>170</td>\n",
       "      <td>172</td>\n",
       "      <td>176</td>\n",
       "      <td>179</td>\n",
       "      <td>180</td>\n",
       "      <td>184</td>\n",
       "      <td>185</td>\n",
       "      <td>...</td>\n",
       "      <td>92</td>\n",
       "      <td>105</td>\n",
       "      <td>105</td>\n",
       "      <td>108</td>\n",
       "      <td>133</td>\n",
       "      <td>163</td>\n",
       "      <td>157</td>\n",
       "      <td>163</td>\n",
       "      <td>164</td>\n",
       "      <td>179</td>\n",
       "    </tr>\n",
       "  </tbody>\n",
       "</table>\n",
       "<p>5 rows × 785 columns</p>\n",
       "</div>"
      ],
      "text/plain": [
       "   label  pixel1  pixel2  pixel3  pixel4  pixel5  pixel6  pixel7  pixel8  \\\n",
       "0      3     107     118     127     134     139     143     146     150   \n",
       "1      6     155     157     156     156     156     157     156     158   \n",
       "2      2     187     188     188     187     187     186     187     188   \n",
       "3      2     211     211     212     212     211     210     211     210   \n",
       "4     12     164     167     170     172     176     179     180     184   \n",
       "\n",
       "   pixel9  ...  pixel775  pixel776  pixel777  pixel778  pixel779  pixel780  \\\n",
       "0     153  ...       207       207       207       207       206       206   \n",
       "1     158  ...        69       149       128        87        94       163   \n",
       "2     187  ...       202       201       200       199       198       199   \n",
       "3     210  ...       235       234       233       231       230       226   \n",
       "4     185  ...        92       105       105       108       133       163   \n",
       "\n",
       "   pixel781  pixel782  pixel783  pixel784  \n",
       "0       206       204       203       202  \n",
       "1       175       103       135       149  \n",
       "2       198       195       194       195  \n",
       "3       225       222       229       163  \n",
       "4       157       163       164       179  \n",
       "\n",
       "[5 rows x 785 columns]"
      ]
     },
     "execution_count": 6,
     "metadata": {},
     "output_type": "execute_result"
    }
   ],
   "source": [
    "train_df.head()"
   ]
  },
  {
   "cell_type": "markdown",
   "id": "8bf2d1df",
   "metadata": {},
   "source": [
    "### Get training label data"
   ]
  },
  {
   "cell_type": "code",
   "execution_count": 7,
   "id": "4348519c",
   "metadata": {},
   "outputs": [],
   "source": [
    "# Extract the 'label' column from the 'train_df' DataFrame and convert it into a NumPy array.\n",
    "y_train = np.array(train_df['label'])\n",
    "\n",
    "# Extract the 'label' column from the 'valid_df' DataFrame and convert it into a NumPy array.\n",
    "y_val = np.array(valid_df['label'])\n",
    "\n",
    "# Remove the 'label' column from the 'train_df' and 'valid_df' DataFrames.\n",
    "del train_df['label']\n",
    "del valid_df['label']\n",
    "\n",
    "# Convert the remaining data in 'train_df' into a NumPy array of type float32.\n",
    "x_train = train_df.values.astype(np.float32)\n",
    "x_val = valid_df.values.astype(np.float32)"
   ]
  },
  {
   "cell_type": "code",
   "execution_count": 8,
   "id": "6c9bed68",
   "metadata": {},
   "outputs": [
    {
     "name": "stdout",
     "output_type": "stream",
     "text": [
      "(27455, 784)\n",
      "(27455,)\n"
     ]
    }
   ],
   "source": [
    "print(x_train.shape)\n",
    "print(y_train.shape)"
   ]
  },
  {
   "cell_type": "code",
   "execution_count": 9,
   "id": "ea87a153",
   "metadata": {},
   "outputs": [
    {
     "name": "stdout",
     "output_type": "stream",
     "text": [
      "(7172, 784) (7172,)\n"
     ]
    }
   ],
   "source": [
    "print(x_val.shape, y_val.shape)"
   ]
  },
  {
   "cell_type": "code",
   "execution_count": 11,
   "id": "7b7edd3e",
   "metadata": {},
   "outputs": [],
   "source": [
    "def split_val_test(x, y, pct=0.5, shuffle=True):\n",
    "# Ensure that the number of samples in x and y are the same.\n",
    "\n",
    "    assert x.shape[0] == y.shape[0], 'Number of samples x!= number samples y'\n",
    "    total_samples = x.shape[0]\n",
    "    if shuffle:\n",
    "        idxs = np.arange(x.shape[0])\n",
    "        np.random.shuffle(idxs)\n",
    "        x = x[idxs]\n",
    "        y = y[idxs]\n",
    "        #return x_val, y_val, x_test, y_test\n",
    "#         return x[:total_samples//2, :], y[:total_samples//2], x[total_samples//2:, :], y[total_samples//2:]\n",
    "\n",
    "# Split the data into two parts: one for validation and one for testing.\n",
    "# The first part (x[:split_point], y[:split_point]) is for validation.\n",
    "# The second part (x[split_point:], y[split_point:]) is for testing.\n",
    "\n",
    "    return x[:int(total_samples*pct), :], y[:int(total_samples*pct)], x[int(total_samples*(pct)):, :], y[int(total_samples*(pct)):]"
   ]
  },
  {
   "cell_type": "code",
   "execution_count": 12,
   "id": "6fb6fda2",
   "metadata": {},
   "outputs": [],
   "source": [
    "x_val, y_val, x_test, y_test = split_val_test(x_val, y_val)"
   ]
  },
  {
   "cell_type": "code",
   "execution_count": 13,
   "id": "e7a02137",
   "metadata": {},
   "outputs": [
    {
     "data": {
      "text/plain": [
       "numpy.ndarray"
      ]
     },
     "execution_count": 13,
     "metadata": {},
     "output_type": "execute_result"
    }
   ],
   "source": [
    "type(y_val)"
   ]
  },
  {
   "cell_type": "code",
   "execution_count": 14,
   "id": "986ec106",
   "metadata": {},
   "outputs": [
    {
     "name": "stdout",
     "output_type": "stream",
     "text": [
      "(3586, 784) (3586,)\n",
      "(3586, 784) (3586,)\n"
     ]
    }
   ],
   "source": [
    "print(x_val.shape, y_val.shape)\n",
    "print(x_test.shape, y_test.shape)"
   ]
  },
  {
   "cell_type": "code",
   "execution_count": 15,
   "id": "d65bdf4c",
   "metadata": {},
   "outputs": [
    {
     "name": "stdout",
     "output_type": "stream",
     "text": [
      "24\n"
     ]
    }
   ],
   "source": [
    "alphabet=list(string.ascii_lowercase)\n",
    "alphabet.remove('j')\n",
    "alphabet.remove('z')\n",
    "print(len(alphabet))"
   ]
  },
  {
   "cell_type": "markdown",
   "id": "f17874be",
   "metadata": {},
   "source": [
    "### Normalise the data"
   ]
  },
  {
   "cell_type": "code",
   "execution_count": 16,
   "id": "b0a5cce2",
   "metadata": {},
   "outputs": [],
   "source": [
    "def normalise(x_mean, x_std, x_data):\n",
    "    return (x_data - x_mean) / x_std"
   ]
  },
  {
   "cell_type": "code",
   "execution_count": 17,
   "id": "b8cf6d30",
   "metadata": {},
   "outputs": [],
   "source": [
    "x_mean = x_train.mean()\n",
    "x_std = x_train.std()\n",
    "\n",
    "x_train = normalise(x_mean, x_std, x_train)\n",
    "x_val = normalise(x_mean, x_std, x_val)\n",
    "x_test = normalise(x_mean, x_std, x_test)\n"
   ]
  },
  {
   "cell_type": "code",
   "execution_count": 18,
   "id": "d0eef77a",
   "metadata": {},
   "outputs": [
    {
     "data": {
      "text/plain": [
       "(3.6268384e-06, 0.99999946)"
      ]
     },
     "execution_count": 18,
     "metadata": {},
     "output_type": "execute_result"
    }
   ],
   "source": [
    "x_train.mean(), x_train.std()"
   ]
  },
  {
   "cell_type": "code",
   "execution_count": 19,
   "id": "4761728d",
   "metadata": {},
   "outputs": [],
   "source": [
    "def plot_number(image):\n",
    "    plt.figure(figsize=(5,5))\n",
    "    plt.imshow(image.squeeze(), cmap=plt.get_cmap('gray'))\n",
    "    plt.axis('off')\n",
    "    plt.show()"
   ]
  },
  {
   "cell_type": "code",
   "execution_count": 20,
   "id": "e5eb103d",
   "metadata": {},
   "outputs": [
    {
     "data": {
      "text/plain": [
       "numpy.ndarray"
      ]
     },
     "execution_count": 20,
     "metadata": {},
     "output_type": "execute_result"
    }
   ],
   "source": [
    "type(x_val)"
   ]
  },
  {
   "cell_type": "code",
   "execution_count": 21,
   "id": "1b9216b0",
   "metadata": {},
   "outputs": [
    {
     "name": "stdout",
     "output_type": "stream",
     "text": [
      "La imagen muestreada representa un: s\n"
     ]
    },
    {
     "data": {
      "image/png": "[encoded data removed]",
      "text/plain": [
       "<Figure size 360x360 with 1 Axes>"
      ]
     },
     "metadata": {},
     "output_type": "display_data"
    }
   ],
   "source": [
    "rnd_idx = np.random.randint(len(y_val))\n",
    "# print(rnd_idx)\n",
    "# print(y_val[rnd_idx])\n",
    "print(f'La imagen muestreada representa un: {alphabet[y_val[rnd_idx]]}')\n",
    "plot_number(x_val[rnd_idx].reshape(28,28))"
   ]
  },
  {
   "cell_type": "markdown",
   "id": "668cfc56",
   "metadata": {},
   "source": [
    "### The model"
   ]
  },
  {
   "cell_type": "markdown",
   "id": "a18c833b",
   "metadata": {},
   "source": [
    "$$z^1 = W^1 X + b^1$$\n",
    "\n",
    "$$a^1 = ReLU(z^1) $$\n",
    "\n",
    "$$z^2 = W^2 a^1 + b^2$$\n",
    "\n",
    "$$\\hat{y} = \\frac{e^{z^{2_k}}}{\\sum_j{e^{z_j}}}$$\n",
    "\n",
    "\n",
    "$$ \\mathcal{L}(\\hat{y}^{i}, y^{i}) =  - y^{i}  \\ln(\\hat{y}^{i}) = -\\ln(\\hat{y}^i)$$\n",
    "\n",
    "\n",
    "$$ \\mathcal{J}(w, b) =  \\frac{1}{num\\_samples} \\sum_{i=1}^{num\\_samples}-\\ln(\\hat{y}^{i})$$"
   ]
  },
  {
   "cell_type": "markdown",
   "id": "beae3ef9",
   "metadata": {},
   "source": [
    "### Create minibatches"
   ]
  },
  {
   "cell_type": "code",
   "execution_count": 22,
   "id": "780beecf",
   "metadata": {},
   "outputs": [],
   "source": [
    "def create_minibatches(mb_size, x, y, shuffle = True):\n",
    "    '''\n",
    "    x  #muestras, 784\n",
    "    y #muestras, 1\n",
    "    '''\n",
    "    assert x.shape[0] == y.shape[0], 'Error en cantidad de muestras'\n",
    "    total_data = x.shape[0]\n",
    "    if shuffle: \n",
    "        idxs = np.arange(total_data)\n",
    "        np.random.shuffle(idxs)\n",
    "        x = x[idxs]\n",
    "        y = y[idxs]\n",
    "        \n",
    "    return ((x[i:i+mb_size], y[i:i+mb_size]) for i in range(0, total_data, mb_size))"
   ]
  },
  {
   "cell_type": "code",
   "execution_count": 23,
   "id": "4b8f845e",
   "metadata": {},
   "outputs": [
    {
     "name": "stdout",
     "output_type": "stream",
     "text": [
      "0\n",
      "1\n",
      "2\n",
      "3\n",
      "4\n",
      "5\n",
      "6\n",
      "7\n",
      "8\n",
      "9\n",
      "10\n",
      "11\n",
      "12\n",
      "13\n",
      "14\n",
      "15\n",
      "16\n",
      "17\n",
      "18\n",
      "19\n",
      "20\n",
      "21\n",
      "22\n",
      "23\n",
      "24\n",
      "25\n",
      "26\n",
      "27\n",
      "28\n",
      "29\n",
      "30\n",
      "31\n",
      "32\n",
      "33\n",
      "34\n",
      "35\n",
      "36\n",
      "37\n",
      "38\n",
      "39\n",
      "40\n",
      "41\n",
      "42\n",
      "43\n",
      "44\n",
      "45\n",
      "46\n",
      "47\n",
      "48\n",
      "49\n",
      "50\n",
      "51\n",
      "52\n",
      "53\n",
      "54\n",
      "55\n",
      "56\n",
      "57\n",
      "58\n",
      "59\n",
      "60\n",
      "61\n",
      "62\n",
      "63\n",
      "64\n",
      "65\n",
      "66\n",
      "67\n",
      "68\n",
      "69\n",
      "70\n",
      "71\n",
      "72\n",
      "73\n",
      "74\n",
      "75\n",
      "76\n",
      "77\n",
      "78\n",
      "79\n",
      "80\n",
      "81\n",
      "82\n",
      "83\n",
      "84\n",
      "85\n",
      "86\n",
      "87\n",
      "88\n",
      "89\n",
      "90\n",
      "91\n",
      "92\n",
      "93\n",
      "94\n",
      "95\n",
      "96\n",
      "97\n",
      "98\n",
      "99\n",
      "100\n",
      "101\n",
      "102\n",
      "103\n",
      "104\n",
      "105\n",
      "106\n",
      "107\n",
      "108\n",
      "109\n",
      "110\n",
      "111\n",
      "112\n",
      "113\n",
      "114\n",
      "115\n",
      "116\n",
      "117\n",
      "118\n",
      "119\n",
      "120\n",
      "121\n",
      "122\n",
      "123\n",
      "124\n",
      "125\n",
      "126\n",
      "127\n",
      "128\n",
      "129\n",
      "130\n",
      "131\n",
      "132\n",
      "133\n",
      "134\n",
      "135\n",
      "136\n",
      "137\n",
      "138\n",
      "139\n",
      "140\n",
      "141\n",
      "142\n",
      "143\n",
      "144\n",
      "145\n",
      "146\n",
      "147\n",
      "148\n",
      "149\n",
      "150\n",
      "151\n",
      "152\n",
      "153\n",
      "154\n",
      "155\n",
      "156\n",
      "157\n",
      "158\n",
      "159\n",
      "160\n",
      "161\n",
      "162\n",
      "163\n",
      "164\n",
      "165\n",
      "166\n",
      "167\n",
      "168\n",
      "169\n",
      "170\n",
      "171\n",
      "172\n",
      "173\n",
      "174\n",
      "175\n",
      "176\n",
      "177\n",
      "178\n",
      "179\n",
      "180\n",
      "181\n",
      "182\n",
      "183\n",
      "184\n",
      "185\n",
      "186\n",
      "187\n",
      "188\n",
      "189\n",
      "190\n",
      "191\n",
      "192\n",
      "193\n",
      "194\n",
      "195\n",
      "196\n",
      "197\n",
      "198\n",
      "199\n",
      "200\n",
      "201\n",
      "202\n",
      "203\n",
      "204\n",
      "205\n",
      "206\n",
      "207\n",
      "208\n",
      "209\n",
      "210\n",
      "211\n",
      "212\n",
      "213\n",
      "214\n"
     ]
    }
   ],
   "source": [
    "for i, (x, y) in enumerate(create_minibatches(128,x_train, y_train)):\n",
    "    print(i)"
   ]
  },
  {
   "cell_type": "markdown",
   "id": "12273997",
   "metadata": {},
   "source": [
    "### Now the PyTorch part"
   ]
  },
  {
   "cell_type": "code",
   "execution_count": 24,
   "id": "cbd1415d",
   "metadata": {},
   "outputs": [],
   "source": [
    "x_train_tensor = torch.tensor(x_train.copy())\n",
    "y_train_tensor = torch.tensor(y_train.copy())\n",
    "\n",
    "x_val_tensor = torch.tensor(x_val.copy())\n",
    "y_val_tensor = torch.tensor(y_val.copy())\n",
    "\n",
    "x_test_tensor = torch.tensor(x_test.copy())\n",
    "y_test_tensor = torch.tensor(y_test.copy())"
   ]
  },
  {
   "cell_type": "code",
   "execution_count": 25,
   "id": "087285a9",
   "metadata": {},
   "outputs": [
    {
     "name": "stdout",
     "output_type": "stream",
     "text": [
      "cpu\n"
     ]
    }
   ],
   "source": [
    "device = 'cuda' if torch.cuda.is_available() else 'cpu'\n",
    "print(device)"
   ]
  },
  {
   "cell_type": "markdown",
   "id": "823c3ba5",
   "metadata": {},
   "source": [
    "### Accuracy"
   ]
  },
  {
   "cell_type": "code",
   "execution_count": 28,
   "id": "e2e0f02a",
   "metadata": {},
   "outputs": [],
   "source": [
    "def accuracy(model, x, y, mb_size):\n",
    "    num_correct = 0\n",
    "    num_total = 0\n",
    "    cost = 0.\n",
    "    model.eval()\n",
    "    model = model.to(device=device)\n",
    "    with torch.no_grad():\n",
    "        for mb, (xi, yi) in enumerate(create_minibatches(mb_size, x, y),1):\n",
    "            xi = xi.to(device=device, dtype = torch.float32)\n",
    "            yi = yi.to(device=device, dtype = torch.long)\n",
    "            scores = model(xi) # mb_size, 10\n",
    "            cost += (F.cross_entropy(scores, yi)).item()\n",
    "            _, pred = scores.max(dim=1) #pred shape (mb_size )\n",
    "            num_correct += (pred == yi.squeeze()).sum() # pred shape (mb_size), yi shape (mb_size, 1)\n",
    "            num_total += pred.size(0)\n",
    "\n",
    "        return cost/mb, float(num_correct)/num_total  "
   ]
  },
  {
   "cell_type": "markdown",
   "id": "533c2954",
   "metadata": {},
   "source": [
    "### Training Loop"
   ]
  },
  {
   "cell_type": "code",
   "execution_count": 29,
   "id": "6d0e44c7",
   "metadata": {},
   "outputs": [],
   "source": [
    "def train(model, optimiser, mb_size, epochs=100):\n",
    "    model = model.to(device=device)\n",
    "    train_cost = 0.\n",
    "    val_cost = 0.\n",
    "    for epoch in range(epochs):\n",
    "        train_correct_num  = 0.\n",
    "        train_total = 0.\n",
    "        train_cost_acum = 0\n",
    "        for mb, (xi, yi) in enumerate(create_minibatches(mb_size, x_train_tensor, y_train_tensor), 1):\n",
    "            model.train()\n",
    "            xi = xi.to(device=device, dtype=torch.float32)\n",
    "            yi = yi.to(device=device, dtype=torch.long)\n",
    "            scores = model(xi)\n",
    "            # funcion cost\n",
    "            cost = F.cross_entropy(input= scores, target=yi.squeeze())\n",
    "            optimiser.zero_grad()\n",
    "            cost.backward()\n",
    "            optimiser.step()\n",
    "            \n",
    "            train_correct_num += (torch.argmax(scores, dim=1) == yi.squeeze()).sum()\n",
    "            train_total += scores.size(0)  \n",
    "            \n",
    "            train_cost_acum += cost.item()\n",
    "        \n",
    "        val_cost, val_acc = accuracy(model, x_val_tensor, y_val_tensor, mb_size)\n",
    "        train_acc = float(train_correct_num)/train_total\n",
    "        train_cost = train_cost_acum/mb\n",
    "        if epoch%20 == 0:    #        \n",
    "            print(f'Epoch:{epoch}, train cost: {train_cost:.6f}, val cost: {val_cost:.6f},'\n",
    "                      f' train acc: {train_acc:.4f}, val acc: {val_acc:4f},'\n",
    "                      f' lr: {optimiser.param_groups[0][\"lr\"]:.6f}')\n",
    "    "
   ]
  },
  {
   "cell_type": "markdown",
   "id": "359b9243",
   "metadata": {},
   "source": [
    "### Model using Sequential"
   ]
  },
  {
   "cell_type": "code",
   "execution_count": 30,
   "id": "c3d678e9",
   "metadata": {},
   "outputs": [
    {
     "name": "stdout",
     "output_type": "stream",
     "text": [
      "Epoch:0, train cost: 0.861193, val cost: 0.976043, train acc: 0.7292, val acc: 0.761015, lr: 0.004000\n",
      "Epoch:20, train cost: 0.160058, val cost: 2.183032, train acc: 0.9642, val acc: 0.769660, lr: 0.004000\n",
      "Epoch:40, train cost: 0.144249, val cost: 2.584364, train acc: 0.9705, val acc: 0.779699, lr: 0.004000\n",
      "Epoch:60, train cost: 0.179594, val cost: 2.747974, train acc: 0.9658, val acc: 0.773564, lr: 0.004000\n",
      "Epoch:80, train cost: 0.202524, val cost: 2.710759, train acc: 0.9634, val acc: 0.778305, lr: 0.004000\n"
     ]
    }
   ],
   "source": [
    "#Instanciar modelo\n",
    "# hidden1 = 100 \n",
    "hidden = 200\n",
    "lr = 1e-3\n",
    "epochs = 100\n",
    "mb_size = 128\n",
    "model1 = nn.Sequential(nn.Linear(in_features=784, out_features=hidden), \n",
    "                       nn.Dropout(),\n",
    "                       nn.ReLU(),\n",
    "#                        nn.Linear(in_features=hidden1, out_features=hidden), nn.ReLU(),\n",
    "                       nn.Linear(in_features=hidden, out_features=24))\n",
    "# optimiser = torch.optim.SGD(model1.parameters(), lr=lr, momentum=0.9, weight_decay=1e-2)\n",
    "optimiser = torch.optim.Adam(model1.parameters(), lr=lr, weight_decay=1e-4) \n",
    "scheduler = torch.optim.lr_scheduler.OneCycleLR(optimiser, 0.1, epochs=epochs, steps_per_epoch=215)\n",
    "\n",
    "train(model1, optimiser, mb_size, epochs)"
   ]
  },
  {
   "cell_type": "code",
   "execution_count": 31,
   "id": "c1942c3b",
   "metadata": {},
   "outputs": [
    {
     "data": {
      "text/plain": [
       "0.7967094255437813"
      ]
     },
     "execution_count": 31,
     "metadata": {},
     "output_type": "execute_result"
    }
   ],
   "source": [
    "accuracy(model1, x_test_tensor, y_test_tensor, mb_size)[1]"
   ]
  },
  {
   "cell_type": "markdown",
   "id": "25eea485",
   "metadata": {},
   "source": [
    "After 20 epochs it gave us a model performance (Accuracy) of 79%. Which is a good indicator."
   ]
  },
  {
   "cell_type": "code",
   "execution_count": 33,
   "id": "6fa8f9d8",
   "metadata": {},
   "outputs": [],
   "source": [
    "def predict(x, model):\n",
    "    x = x.to(device=device, dtype = torch.float32)\n",
    "    scores = model(x) # mb_size, 10\n",
    "    _, pred = scores.max(dim=1) #pred shape (mb_size )\n",
    "    return pred"
   ]
  },
  {
   "cell_type": "code",
   "execution_count": 34,
   "id": "bb4edc89",
   "metadata": {},
   "outputs": [
    {
     "name": "stdout",
     "output_type": "stream",
     "text": [
      "La imagen muestreada representa un: c\n"
     ]
    },
    {
     "data": {
      "image/png": "[encoded data removed]",
      "text/plain": [
       "<Figure size 360x360 with 1 Axes>"
      ]
     },
     "metadata": {},
     "output_type": "display_data"
    },
    {
     "name": "stdout",
     "output_type": "stream",
     "text": [
      "el valor predicho c\n"
     ]
    }
   ],
   "source": [
    "rnd_idx = np.random.randint(len(y_test))\n",
    "print(f'La imagen muestreada representa un: {alphabet[y_test[rnd_idx]]}')\n",
    "plot_number(x_test[rnd_idx].reshape(28,28))\n",
    "pred=predict(x_test_tensor[rnd_idx].reshape(1, -1), model1)\n",
    "print(f'el valor predicho {alphabet[pred]}')"
   ]
  },
  {
   "cell_type": "markdown",
   "id": "1707df81",
   "metadata": {},
   "source": [
    "The primary difference between using NumPy and PyTorch lies in the ease and power that PyTorch provides for deep learning model development. Here is a conclusion regarding the difference between using NumPy and PyTorch:\n",
    "\n",
    "1. **Ease of Development**: PyTorch significantly simplifies the development of deep learning models compared to NumPy. With PyTorch, you can define and train neural networks in a more intuitive and concise manner with less code. PyTorch offers a more user-friendly, object-oriented interface for building and training models.\n",
    "\n",
    "2. **Automatic Differentiation**: One of the most powerful features of PyTorch is its automatic gradient computation. PyTorch automatically tracks operations on tensors, making backpropagation of gradients during training much easier. This simplifies the implementation of deep learning algorithms like stochastic gradient descent.\n",
    "\n",
    "3. **GPU Optimization**: PyTorch provides stronger integration with GPUs, enabling significant acceleration of model training on compatible hardware. While NumPy can also leverage GPUs, PyTorch streamlines the process and offers better tensor management on GPUs.\n",
    "\n",
    "4. **Active Community and Related Libraries**: PyTorch has an active community and a wide range of related libraries and tools that ease deep learning development and experimentation. This includes libraries like TorchVision for computer vision and TorchText for natural language processing.\n",
    "\n",
    "5. **Portability and Deployment**: PyTorch offers tools for converting models into formats that can be easily deployed in production, simplifying the transition from research-trained models to practical applications.\n",
    "\n",
    "In conclusion, while NumPy is a fundamental library for scientific computing in Python, PyTorch is purpose-built for deep learning model development and provides a more comprehensive and streamlined experience for data scientists and researchers working in this field. Automatic differentiation, GPU acceleration, and development conveniences make PyTorch a popular choice for deep learning projects."
   ]
  }
 ],
 "metadata": {
  "kernelspec": {
   "display_name": "Python 3 (ipykernel)",
   "language": "python",
   "name": "python3"
  },
  "language_info": {
   "codemirror_mode": {
    "name": "ipython",
    "version": 3
   },
   "file_extension": ".py",
   "mimetype": "text/x-python",
   "name": "python",
   "nbconvert_exporter": "python",
   "pygments_lexer": "ipython3",
   "version": "3.9.12"
  },
  "toc": {
   "base_numbering": 1,
   "nav_menu": {},
   "number_sections": true,
   "sideBar": true,
   "skip_h1_title": false,
   "title_cell": "Table of Contents",
   "title_sidebar": "Contents",
   "toc_cell": false,
   "toc_position": {},
   "toc_section_display": true,
   "toc_window_display": false
  },
  "varInspector": {
   "cols": {
    "lenName": 16,
    "lenType": 16,
    "lenVar": 40
   },
   "kernels_config": {
    "python": {
     "delete_cmd_postfix": "",
     "delete_cmd_prefix": "del ",
     "library": "var_list.py",
     "varRefreshCmd": "print(var_dic_list())"
    },
    "r": {
     "delete_cmd_postfix": ") ",
     "delete_cmd_prefix": "rm(",
     "library": "var_list.r",
     "varRefreshCmd": "cat(var_dic_list()) "
    }
   },
   "types_to_exclude": [
    "module",
    "function",
    "builtin_function_or_method",
    "instance",
    "_Feature"
   ],
   "window_display": false
  }
 },
 "nbformat": 4,
 "nbformat_minor": 5
}
